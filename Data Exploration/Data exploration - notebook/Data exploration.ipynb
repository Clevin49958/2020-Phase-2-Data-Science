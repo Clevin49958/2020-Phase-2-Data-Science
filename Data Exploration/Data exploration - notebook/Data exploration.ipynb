{
 "cells": [
  {
   "cell_type": "code",
   "execution_count": 1,
   "metadata": {},
   "outputs": [],
   "source": [
    "import re\n",
    "\n",
    "import pandas as pd\n",
    "import nltk"
   ]
  },
  {
   "cell_type": "code",
   "execution_count": 2,
   "metadata": {},
   "outputs": [],
   "source": [
    "comments = pd.read_csv('comments_.csv')"
   ]
  },
  {
   "cell_type": "markdown",
   "metadata": {},
   "source": [
    "## Sample sentiment analysis\n",
    "1. Data cleaning\n",
    "2. Data prepping (OPTIONAL)\n",
    "3. Data exploration\n",
    "4. Prebuilt packages - Vader and Textblob"
   ]
  },
  {
   "cell_type": "markdown",
   "metadata": {},
   "source": [
    "### __1.__ __Data cleaning__"
   ]
  },
  {
   "cell_type": "markdown",
   "metadata": {},
   "source": [
    " - Remove urls"
   ]
  },
  {
   "cell_type": "code",
   "execution_count": 71,
   "metadata": {},
   "outputs": [
    {
     "data": {
      "text/plain": [
       "'[Mermaid Man](http://www.runsilly.com/wp-content/uploads/2014/10/Mermaid_Man_Boatmobile.jpg) had this figured out years ago. '"
      ]
     },
     "execution_count": 71,
     "metadata": {},
     "output_type": "execute_result"
    }
   ],
   "source": [
    "sample = comments.Reply.iloc[10]\n",
    "sample"
   ]
  },
  {
   "cell_type": "code",
   "execution_count": 72,
   "metadata": {
    "scrolled": true
   },
   "outputs": [
    {
     "data": {
      "text/plain": [
       "'[Mermaid Man] had this figured out years ago. '"
      ]
     },
     "execution_count": 72,
     "metadata": {},
     "output_type": "execute_result"
    }
   ],
   "source": [
    "re.sub(r'\\(?http\\S+', '', sample)"
   ]
  },
  {
   "cell_type": "markdown",
   "metadata": {},
   "source": [
    " - Getting rid of \\n, \\t... etc characters that does not help with prediction but might link 2 words together and make them indistinguishable from one another"
   ]
  },
  {
   "cell_type": "code",
   "execution_count": 46,
   "metadata": {},
   "outputs": [
    {
     "data": {
      "text/plain": [
       "'\"How about a pilot without the plane?\"\\n\\nIron-Man, confirmed.'"
      ]
     },
     "execution_count": 46,
     "metadata": {},
     "output_type": "execute_result"
    }
   ],
   "source": [
    "sample = comments.Reply.iloc[9]\n",
    "sample"
   ]
  },
  {
   "cell_type": "code",
   "execution_count": 49,
   "metadata": {},
   "outputs": [
    {
     "data": {
      "text/plain": [
       "['``',\n",
       " 'How',\n",
       " 'about',\n",
       " 'a',\n",
       " 'pilot',\n",
       " 'without',\n",
       " 'the',\n",
       " 'plane',\n",
       " '?',\n",
       " \"''\",\n",
       " 'Iron-Man',\n",
       " ',',\n",
       " 'confirmed',\n",
       " '.']"
      ]
     },
     "execution_count": 49,
     "metadata": {},
     "output_type": "execute_result"
    }
   ],
   "source": [
    "word_tokenized = nltk.word_tokenize(sample)\n",
    "word_tokenized"
   ]
  },
  {
   "cell_type": "code",
   "execution_count": 50,
   "metadata": {},
   "outputs": [
    {
     "data": {
      "text/plain": [
       "\"`` How about a pilot without the plane ? '' Iron-Man , confirmed .\""
      ]
     },
     "execution_count": 50,
     "metadata": {},
     "output_type": "execute_result"
    }
   ],
   "source": [
    "' '.join(word_tokenized)"
   ]
  },
  {
   "cell_type": "markdown",
   "metadata": {},
   "source": [
    "### __2.__ __Data prepping (optional)__"
   ]
  },
  {
   "cell_type": "markdown",
   "metadata": {},
   "source": [
    "These steps are commonly done before you train your own model. But as we are using pre built packages (rather than building our own) these steps are not necessary - but you might as well learn about them!"
   ]
  },
  {
   "cell_type": "markdown",
   "metadata": {},
   "source": [
    " - Remove stopwords"
   ]
  },
  {
   "cell_type": "code",
   "execution_count": 37,
   "metadata": {},
   "outputs": [],
   "source": [
    "from nltk.corpus import stopwords\n",
    "stopwords = stopwords.words('english')"
   ]
  },
  {
   "cell_type": "code",
   "execution_count": 42,
   "metadata": {},
   "outputs": [
    {
     "data": {
      "text/plain": [
       "'All we need now is humanless bodies'"
      ]
     },
     "execution_count": 42,
     "metadata": {},
     "output_type": "execute_result"
    }
   ],
   "source": [
    "sample = comments.Reply.iloc[0]\n",
    "sample"
   ]
  },
  {
   "cell_type": "code",
   "execution_count": 52,
   "metadata": {},
   "outputs": [
    {
     "data": {
      "text/plain": [
       "'need humanless bodies'"
      ]
     },
     "execution_count": 52,
     "metadata": {},
     "output_type": "execute_result"
    }
   ],
   "source": [
    "stopwords_removed = [word for word in nltk.word_tokenize(comments.Reply.iloc[0]) if word.lower() not in stopwords]\n",
    "' '.join(stopwords_removed)"
   ]
  },
  {
   "cell_type": "markdown",
   "metadata": {},
   "source": [
    " - Stemming and Lemmatization"
   ]
  },
  {
   "cell_type": "code",
   "execution_count": 53,
   "metadata": {},
   "outputs": [],
   "source": [
    "from nltk.stem import PorterStemmer\n",
    "porter_stemmer = PorterStemmer()"
   ]
  },
  {
   "cell_type": "code",
   "execution_count": 54,
   "metadata": {},
   "outputs": [
    {
     "data": {
      "text/plain": [
       "['women', 'run', 'run', 'run', 'ran']"
      ]
     },
     "execution_count": 54,
     "metadata": {},
     "output_type": "execute_result"
    }
   ],
   "source": [
    "text = nltk.word_tokenize('women run running runs ran')\n",
    "stemmed = [porter_stemmer.stem(word) for word in text]\n",
    "stemmed"
   ]
  },
  {
   "cell_type": "code",
   "execution_count": 56,
   "metadata": {},
   "outputs": [
    {
     "data": {
      "text/plain": [
       "['woman', 'run', 'running', 'run', 'ran']"
      ]
     },
     "execution_count": 56,
     "metadata": {},
     "output_type": "execute_result"
    }
   ],
   "source": [
    "lemmatizer = nltk.WordNetLemmatizer()\n",
    "lemmatized = [lemmatizer.lemmatize(word) for word in text]\n",
    "lemmatized"
   ]
  },
  {
   "cell_type": "markdown",
   "metadata": {},
   "source": [
    "- POS (Part-of-speech) and lemmatization"
   ]
  },
  {
   "cell_type": "markdown",
   "metadata": {},
   "source": [
    "Just like word tokenization there is also sentence tokenization. Sentence tokenization is required if you use POS and lemmatization. This is because whether a word is a verb, adjective... depends on its place in a sentence"
   ]
  },
  {
   "cell_type": "code",
   "execution_count": 63,
   "metadata": {},
   "outputs": [
    {
     "data": {
      "text/plain": [
       "'Did a double-take. Thought it might have been April 1'"
      ]
     },
     "execution_count": 63,
     "metadata": {},
     "output_type": "execute_result"
    }
   ],
   "source": [
    "sample = comments.Reply.iloc[61]\n",
    "sample"
   ]
  },
  {
   "cell_type": "code",
   "execution_count": 64,
   "metadata": {},
   "outputs": [
    {
     "data": {
      "text/plain": [
       "['Did a double-take.', 'Thought it might have been April 1']"
      ]
     },
     "execution_count": 64,
     "metadata": {},
     "output_type": "execute_result"
    }
   ],
   "source": [
    "sentences = nltk.tokenize.sent_tokenize(sample)\n",
    "sentences"
   ]
  },
  {
   "cell_type": "code",
   "execution_count": 65,
   "metadata": {},
   "outputs": [
    {
     "data": {
      "text/plain": [
       "[['Did', 'a', 'double-take', '.'],\n",
       " ['Thought', 'it', 'might', 'have', 'been', 'April', '1']]"
      ]
     },
     "execution_count": 65,
     "metadata": {},
     "output_type": "execute_result"
    }
   ],
   "source": [
    "tokens = [nltk.word_tokenize(sentence) for sentence in sentences] \n",
    "tokens"
   ]
  },
  {
   "cell_type": "code",
   "execution_count": 66,
   "metadata": {},
   "outputs": [
    {
     "data": {
      "text/plain": [
       "[[('Did', 'VB'), ('a', 'DT'), ('double-take', 'NN'), ('.', '.')],\n",
       " [('Thought', 'NNP'),\n",
       "  ('it', 'PRP'),\n",
       "  ('might', 'MD'),\n",
       "  ('have', 'VB'),\n",
       "  ('been', 'VBN'),\n",
       "  ('April', 'NNP'),\n",
       "  ('1', 'CD')]]"
      ]
     },
     "execution_count": 66,
     "metadata": {},
     "output_type": "execute_result"
    }
   ],
   "source": [
    "pos_tagged_tokens = [nltk.pos_tag(token) for token in tokens] \n",
    "pos_tagged_tokens"
   ]
  },
  {
   "cell_type": "raw",
   "metadata": {},
   "source": [
    "Number  Tag    Description\n",
    "1.  \tCC  \tCoordinating conjunction\n",
    "2.  \tCD  \tCardinal number\n",
    "3. \t    DT  \tDeterminer\n",
    "4.  \tEX  \tExistential there\n",
    "5.  \tFW  \tForeign word\n",
    "6.  \tIN  \tPreposition or subordinating conjunction\n",
    "7.  \tJJ  \tAdjective\n",
    "8.  \tJJR \tAdjective, comparative\n",
    "9.  \tJJS \tAdjective, superlative\n",
    "10. \tLS  \tList item marker\n",
    "11. \tMD  \tModal\n",
    "12. \tNN  \tNoun, singular or mass\n",
    "13. \tNNS \tNoun, plural\n",
    "14. \tNNP \tProper noun, singular\n",
    "15. \tNNPS \tProper noun, plural\n",
    "16. \tPDT \tPredeterminer\n",
    "17. \tPOS \tPossessive ending\n",
    "18. \tPRP \tPersonal pronoun\n",
    "19. \tPRP$ \tPossessive pronoun\n",
    "20. \tRB  \tAdverb\n",
    "21. \tRBR \tAdverb, comparative\n",
    "22. \tRBS \tAdverb, superlative\n",
    "23. \tRP  \tParticle\n",
    "24. \tSYM \tSymbol\n",
    "25. \tTO  \tto\n",
    "26. \tUH  \tInterjection\n",
    "27. \tVB  \tVerb, base form\n",
    "28. \tVBD \tVerb, past tense\n",
    "29. \tVBG \tVerb, gerund or present participle\n",
    "30. \tVBN \tVerb, past participle\n",
    "31. \tVBP \tVerb, non-3rd person singular present\n",
    "32. \tVBZ \tVerb, 3rd person singular present\n",
    "33. \tWDT \tWh-determiner\n",
    "34. \tWP  \tWh-pronoun\n",
    "35. \tWP$ \tPossessive wh-pronoun\n",
    "36. \tWRB \tWh-adverb \n",
    "\n",
    "Source: http://www.ling.upenn.edu/courses/Fall_2003/ling001/penn_treebank_pos.html"
   ]
  },
  {
   "cell_type": "markdown",
   "metadata": {},
   "source": [
    "Defining a function to map the POS tag to a POS value which the lemmatizer can use"
   ]
  },
  {
   "cell_type": "code",
   "execution_count": 78,
   "metadata": {},
   "outputs": [],
   "source": [
    "from nltk.corpus import wordnet\n",
    "def get_wordnet_pos(tag):\n",
    "    \n",
    "    if tag == '':\n",
    "        return\n",
    "    \n",
    "    if tag.startswith('J'):\n",
    "        return wordnet.ADJ\n",
    "    elif tag.startswith('V'):\n",
    "        return wordnet.VERB\n",
    "    elif tag.startswith('N'):\n",
    "        return wordnet.NOUN\n",
    "    elif tag.startswith('R'):\n",
    "        return wordnet.ADV\n",
    "    else:\n",
    "        return wordnet.NOUN"
   ]
  },
  {
   "cell_type": "markdown",
   "metadata": {},
   "source": [
    "Lemmatizing our comment from before, using our POS tags we created"
   ]
  },
  {
   "cell_type": "code",
   "execution_count": 79,
   "metadata": {},
   "outputs": [
    {
     "data": {
      "text/plain": [
       "['Did',\n",
       " 'a',\n",
       " 'double-take',\n",
       " '.',\n",
       " 'Thought',\n",
       " 'it',\n",
       " 'might',\n",
       " 'have',\n",
       " 'be',\n",
       " 'April',\n",
       " '1']"
      ]
     },
     "execution_count": 79,
     "metadata": {},
     "output_type": "execute_result"
    }
   ],
   "source": [
    "[lemmatizer.lemmatize(x[0], get_wordnet_pos(x[1])) for x in [item for sublist in pos_tagged_tokens for item in sublist]]"
   ]
  },
  {
   "cell_type": "markdown",
   "metadata": {},
   "source": [
    "### __3.__ __Data exploration__"
   ]
  },
  {
   "cell_type": "markdown",
   "metadata": {},
   "source": [
    " - Bigrams"
   ]
  },
  {
   "cell_type": "code",
   "execution_count": 82,
   "metadata": {},
   "outputs": [],
   "source": [
    "sample = ['more', 'is', 'said', 'than', 'done', 'is', 'said', 'than']"
   ]
  },
  {
   "cell_type": "code",
   "execution_count": 83,
   "metadata": {},
   "outputs": [
    {
     "name": "stdout",
     "output_type": "stream",
     "text": [
      "[('is', 'said'), ('said', 'than')]\n"
     ]
    }
   ],
   "source": [
    "from nltk.collocations import *\n",
    "\n",
    "bigram_measures = nltk.collocations.BigramAssocMeasures()\n",
    "\n",
    "finder = BigramCollocationFinder.from_words(sample)\n",
    "\n",
    "# only bigrams that appear 2+ times\n",
    "finder.apply_freq_filter(2) \n",
    "\n",
    "# return the 10 n-grams with the highest PMI\n",
    "print (finder.nbest(bigram_measures.pmi, 10) )"
   ]
  },
  {
   "cell_type": "markdown",
   "metadata": {},
   "source": [
    "Let's try it on first 1000 rows of our text"
   ]
  },
  {
   "cell_type": "code",
   "execution_count": 92,
   "metadata": {},
   "outputs": [],
   "source": [
    "all_text = comments.iloc[:1000,:].Reply.str.cat(sep='. ')"
   ]
  },
  {
   "cell_type": "code",
   "execution_count": 93,
   "metadata": {},
   "outputs": [],
   "source": [
    "all_text = nltk.word_tokenize(all_text)"
   ]
  },
  {
   "cell_type": "code",
   "execution_count": 95,
   "metadata": {},
   "outputs": [
    {
     "name": "stdout",
     "output_type": "stream",
     "text": [
      "[('Dodge', 'Demon'), ('PR', 'team'), ('pissing', 'match'), ('180k', 'Turbo'), ('Marcus', 'Miles'), ('public', 'enemy'), ('Agera', 'RS'), ('South', 'Africa'), ('differences', 'lie'), ('flame', 'throwers')]\n"
     ]
    }
   ],
   "source": [
    "bigram_measures = nltk.collocations.BigramAssocMeasures()\n",
    "finder = BigramCollocationFinder.from_words(all_text)\n",
    "finder.apply_freq_filter(3) \n",
    "list_of_common_bigrams = finder.nbest(bigram_measures.pmi, 10)\n",
    "print (list_of_common_bigrams)"
   ]
  },
  {
   "cell_type": "markdown",
   "metadata": {},
   "source": [
    " - Wordcloud"
   ]
  },
  {
   "cell_type": "code",
   "execution_count": 107,
   "metadata": {},
   "outputs": [],
   "source": [
    "import wordcloud\n",
    "from wordcloud import WordCloud, STOPWORDS\n",
    "import matplotlib.pyplot as plt\n",
    "\n",
    "sample = comments.iloc[:1000,:].Reply.str.cat(sep='. ')"
   ]
  },
  {
   "cell_type": "code",
   "execution_count": 108,
   "metadata": {},
   "outputs": [],
   "source": [
    "import random\n",
    "def grey_color_func(word, font_size, position, orientation, random_state=None, **kwargs):\n",
    "    return \"hsl(0, 0%%, %d%%)\" % random.randint(1, 20)"
   ]
  },
  {
   "cell_type": "code",
   "execution_count": 109,
   "metadata": {},
   "outputs": [
    {
     "data": {
      "image/png": "[encoded data removed]",
      "text/plain": [
       "<Figure size 720x1440 with 1 Axes>"
      ]
     },
     "metadata": {
      "needs_background": "light"
     },
     "output_type": "display_data"
    }
   ],
   "source": [
    "stp = STOPWORDS.copy()\n",
    "wc = WordCloud(background_color=\"white\", max_words=50,  stopwords=stp)\n",
    "# generate word cloud\n",
    "wc.generate(sample)\n",
    "\n",
    "plt.figure(figsize=(10,20))\n",
    "plt.imshow(wc.recolor(color_func=grey_color_func, random_state=3))\n",
    "plt.show()"
   ]
  },
  {
   "cell_type": "markdown",
   "metadata": {},
   "source": [
    "### 4. Using the prebuilt packages"
   ]
  },
  {
   "cell_type": "markdown",
   "metadata": {},
   "source": [
    "- Vader package first"
   ]
  },
  {
   "cell_type": "code",
   "execution_count": 12,
   "metadata": {},
   "outputs": [],
   "source": [
    "from nltk.sentiment.vader import SentimentIntensityAnalyzer, VaderConstants\n",
    "\n",
    "#FIRST, we initialize VADER so we can use it within our Python script\n",
    "sid = SentimentIntensityAnalyzer()"
   ]
  },
  {
   "cell_type": "markdown",
   "metadata": {},
   "source": [
    "We can add sentiment scores to words manually if we want"
   ]
  },
  {
   "cell_type": "code",
   "execution_count": 140,
   "metadata": {},
   "outputs": [],
   "source": [
    "new_words = {\n",
    "    'hello': -1000,\n",
    "}\n",
    "\n",
    "sid.lexicon.update(new_words)"
   ]
  },
  {
   "cell_type": "code",
   "execution_count": 142,
   "metadata": {},
   "outputs": [
    {
     "data": {
      "text/plain": [
       "{'neg': 1.0, 'neu': 0.0, 'pos': 0.0, 'compound': -1.0}"
      ]
     },
     "execution_count": 142,
     "metadata": {},
     "output_type": "execute_result"
    }
   ],
   "source": [
    "sid.polarity_scores('hello')"
   ]
  },
  {
   "cell_type": "code",
   "execution_count": 13,
   "metadata": {},
   "outputs": [
    {
     "data": {
      "text/plain": [
       "(70157, 4)"
      ]
     },
     "execution_count": 13,
     "metadata": {},
     "output_type": "execute_result"
    }
   ],
   "source": [
    "#As this is for demonstration purposes only - we will only use comments from the first 100 keys\n",
    "df = comments[comments.Key<101]\n",
    "df.shape"
   ]
  },
  {
   "cell_type": "code",
   "execution_count": 14,
   "metadata": {},
   "outputs": [],
   "source": [
    "#The cleaning steps as outlined earlier\n",
    "df.Reply = df.Reply.apply(lambda x: re.sub(r'\\(?http\\S+', '', x))\n",
    "df.Reply = df.Reply.apply(lambda x: ' '.join(nltk.word_tokenize(x)))"
   ]
  },
  {
   "cell_type": "code",
   "execution_count": 15,
   "metadata": {},
   "outputs": [],
   "source": [
    "df[['neg','neu','pos','compound']] = df.Reply.apply(lambda x: pd.Series(sid.polarity_scores(x)))"
   ]
  },
  {
   "cell_type": "code",
   "execution_count": 182,
   "metadata": {},
   "outputs": [
    {
     "data": {
      "text/html": [
       "<div>\n",
       "<style scoped>\n",
       "    .dataframe tbody tr th:only-of-type {\n",
       "        vertical-align: middle;\n",
       "    }\n",
       "\n",
       "    .dataframe tbody tr th {\n",
       "        vertical-align: top;\n",
       "    }\n",
       "\n",
       "    .dataframe thead th {\n",
       "        text-align: right;\n",
       "    }\n",
       "</style>\n",
       "<table border=\"1\" class=\"dataframe\">\n",
       "  <thead>\n",
       "    <tr style=\"text-align: right;\">\n",
       "      <th></th>\n",
       "      <th>Reply</th>\n",
       "      <th>Time</th>\n",
       "      <th>Upvote</th>\n",
       "      <th>Key</th>\n",
       "      <th>Classification</th>\n",
       "      <th>positive</th>\n",
       "      <th>negative</th>\n",
       "      <th>neg</th>\n",
       "      <th>neu</th>\n",
       "      <th>pos</th>\n",
       "      <th>compound</th>\n",
       "    </tr>\n",
       "  </thead>\n",
       "  <tbody>\n",
       "    <tr>\n",
       "      <th>0</th>\n",
       "      <td>All we need now is humanless bodies</td>\n",
       "      <td>2018-01-30 11:19:01</td>\n",
       "      <td>956</td>\n",
       "      <td>1</td>\n",
       "      <td>pos</td>\n",
       "      <td>0.514741</td>\n",
       "      <td>0.485259</td>\n",
       "      <td>0.000</td>\n",
       "      <td>1.000</td>\n",
       "      <td>0.000</td>\n",
       "      <td>0.0000</td>\n",
       "    </tr>\n",
       "    <tr>\n",
       "      <th>1</th>\n",
       "      <td>For a moment I read careless driver . Would ha...</td>\n",
       "      <td>2018-01-30 10:35:31</td>\n",
       "      <td>3985</td>\n",
       "      <td>1</td>\n",
       "      <td>pos</td>\n",
       "      <td>0.521948</td>\n",
       "      <td>0.478052</td>\n",
       "      <td>0.195</td>\n",
       "      <td>0.547</td>\n",
       "      <td>0.258</td>\n",
       "      <td>0.2023</td>\n",
       "    </tr>\n",
       "    <tr>\n",
       "      <th>2</th>\n",
       "      <td>Elon 's Twitter feed has been hilarious over t...</td>\n",
       "      <td>2018-01-30 11:21:32</td>\n",
       "      <td>1762</td>\n",
       "      <td>1</td>\n",
       "      <td>pos</td>\n",
       "      <td>0.738500</td>\n",
       "      <td>0.261500</td>\n",
       "      <td>0.083</td>\n",
       "      <td>0.833</td>\n",
       "      <td>0.083</td>\n",
       "      <td>0.0000</td>\n",
       "    </tr>\n",
       "  </tbody>\n",
       "</table>\n",
       "</div>"
      ],
      "text/plain": [
       "                                               Reply                 Time  \\\n",
       "0                All we need now is humanless bodies  2018-01-30 11:19:01   \n",
       "1  For a moment I read careless driver . Would ha...  2018-01-30 10:35:31   \n",
       "2  Elon 's Twitter feed has been hilarious over t...  2018-01-30 11:21:32   \n",
       "\n",
       "   Upvote  Key Classification  positive  negative    neg    neu    pos  \\\n",
       "0     956    1            pos  0.514741  0.485259  0.000  1.000  0.000   \n",
       "1    3985    1            pos  0.521948  0.478052  0.195  0.547  0.258   \n",
       "2    1762    1            pos  0.738500  0.261500  0.083  0.833  0.083   \n",
       "\n",
       "   compound  \n",
       "0    0.0000  \n",
       "1    0.2023  \n",
       "2    0.0000  "
      ]
     },
     "execution_count": 182,
     "metadata": {},
     "output_type": "execute_result"
    }
   ],
   "source": [
    "df.head(3)"
   ]
  },
  {
   "cell_type": "code",
   "execution_count": 16,
   "metadata": {},
   "outputs": [],
   "source": [
    "df.to_csv('sentiments_for_comments.csv', index=False)"
   ]
  },
  {
   "cell_type": "markdown",
   "metadata": {},
   "source": [
    "- Textblob package now"
   ]
  },
  {
   "cell_type": "code",
   "execution_count": 154,
   "metadata": {},
   "outputs": [],
   "source": [
    "from textblob.sentiments import NaiveBayesAnalyzer, PatternAnalyzer\n",
    "from textblob import Blobber\n",
    "tba = Blobber(analyzer=NaiveBayesAnalyzer())"
   ]
  },
  {
   "cell_type": "code",
   "execution_count": 155,
   "metadata": {},
   "outputs": [
    {
     "data": {
      "text/plain": [
       "Sentiment(classification='neg', p_pos=0.374939442175929, p_neg=0.6250605578240714)"
      ]
     },
     "execution_count": 155,
     "metadata": {},
     "output_type": "execute_result"
    }
   ],
   "source": [
    "tba('My life is a frictionless slide downhill').sentiment"
   ]
  },
  {
   "cell_type": "code",
   "execution_count": 162,
   "metadata": {},
   "outputs": [],
   "source": [
    "#As this is for demonstration purposes only - we will only use comments from the first 100 keys\n",
    "df = comments[comments.Key<101]"
   ]
  },
  {
   "cell_type": "code",
   "execution_count": null,
   "metadata": {},
   "outputs": [],
   "source": [
    "#The cleaning steps as outlined earlier\n",
    "df.Reply = df.Reply.apply(lambda x: re.sub(r'\\(?http\\S+', '', x))\n",
    "df.Reply = df.Reply.apply(lambda x: ' '.join(nltk.word_tokenize(x)))"
   ]
  },
  {
   "cell_type": "code",
   "execution_count": 174,
   "metadata": {},
   "outputs": [
    {
     "name": "stderr",
     "output_type": "stream",
     "text": [
      "C:\\Users\\clear\\AppData\\Local\\Continuum\\anaconda3\\lib\\site-packages\\pandas\\core\\frame.py:2963: SettingWithCopyWarning: \n",
      "A value is trying to be set on a copy of a slice from a DataFrame.\n",
      "Try using .loc[row_indexer,col_indexer] = value instead\n",
      "\n",
      "See the caveats in the documentation: https://pandas.pydata.org/pandas-docs/stable/user_guide/indexing.html#returning-a-view-versus-a-copy\n",
      "  self[k1] = value[k2]\n"
     ]
    }
   ],
   "source": [
    "df[['Classification','positive','negative']] = df.Reply.apply(lambda x: pd.Series({'Classification':tba(x).sentiment[0],\n",
    "                                                                        'positive':tba(x).sentiment[1],\n",
    "                                                                        'negative':tba(x).sentiment[2]}))"
   ]
  },
  {
   "cell_type": "code",
   "execution_count": 175,
   "metadata": {},
   "outputs": [
    {
     "data": {
      "text/html": [
       "<div>\n",
       "<style scoped>\n",
       "    .dataframe tbody tr th:only-of-type {\n",
       "        vertical-align: middle;\n",
       "    }\n",
       "\n",
       "    .dataframe tbody tr th {\n",
       "        vertical-align: top;\n",
       "    }\n",
       "\n",
       "    .dataframe thead th {\n",
       "        text-align: right;\n",
       "    }\n",
       "</style>\n",
       "<table border=\"1\" class=\"dataframe\">\n",
       "  <thead>\n",
       "    <tr style=\"text-align: right;\">\n",
       "      <th></th>\n",
       "      <th>Reply</th>\n",
       "      <th>Time</th>\n",
       "      <th>Upvote</th>\n",
       "      <th>Key</th>\n",
       "      <th>Classification</th>\n",
       "      <th>positive</th>\n",
       "      <th>negative</th>\n",
       "    </tr>\n",
       "  </thead>\n",
       "  <tbody>\n",
       "    <tr>\n",
       "      <th>0</th>\n",
       "      <td>All we need now is humanless bodies</td>\n",
       "      <td>2018-01-30 11:19:01</td>\n",
       "      <td>956</td>\n",
       "      <td>1</td>\n",
       "      <td>pos</td>\n",
       "      <td>0.514741</td>\n",
       "      <td>0.485259</td>\n",
       "    </tr>\n",
       "    <tr>\n",
       "      <th>1</th>\n",
       "      <td>For a moment I read careless driver. Would hav...</td>\n",
       "      <td>2018-01-30 10:35:31</td>\n",
       "      <td>3985</td>\n",
       "      <td>1</td>\n",
       "      <td>pos</td>\n",
       "      <td>0.521948</td>\n",
       "      <td>0.478052</td>\n",
       "    </tr>\n",
       "    <tr>\n",
       "      <th>2</th>\n",
       "      <td>Elon's Twitter feed has been hilarious over th...</td>\n",
       "      <td>2018-01-30 11:21:32</td>\n",
       "      <td>1762</td>\n",
       "      <td>1</td>\n",
       "      <td>pos</td>\n",
       "      <td>0.738500</td>\n",
       "      <td>0.261500</td>\n",
       "    </tr>\n",
       "  </tbody>\n",
       "</table>\n",
       "</div>"
      ],
      "text/plain": [
       "                                               Reply                 Time  \\\n",
       "0                All we need now is humanless bodies  2018-01-30 11:19:01   \n",
       "1  For a moment I read careless driver. Would hav...  2018-01-30 10:35:31   \n",
       "2  Elon's Twitter feed has been hilarious over th...  2018-01-30 11:21:32   \n",
       "\n",
       "   Upvote  Key Classification  positive  negative  \n",
       "0     956    1            pos  0.514741  0.485259  \n",
       "1    3985    1            pos  0.521948  0.478052  \n",
       "2    1762    1            pos  0.738500  0.261500  "
      ]
     },
     "execution_count": 175,
     "metadata": {},
     "output_type": "execute_result"
    }
   ],
   "source": [
    "df.head(3)"
   ]
  },
  {
   "cell_type": "code",
   "execution_count": null,
   "metadata": {},
   "outputs": [],
   "source": []
  }
 ],
 "metadata": {
  "kernelspec": {
   "display_name": "Python 3",
   "language": "python",
   "name": "python3"
  },
  "language_info": {
   "codemirror_mode": {
    "name": "ipython",
    "version": 3
   },
   "file_extension": ".py",
   "mimetype": "text/x-python",
   "name": "python",
   "nbconvert_exporter": "python",
   "pygments_lexer": "ipython3",
   "version": "3.7.1"
  }
 },
 "nbformat": 4,
 "nbformat_minor": 4
}
